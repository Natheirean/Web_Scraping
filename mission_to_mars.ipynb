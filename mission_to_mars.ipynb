{
 "cells": [
  {
   "cell_type": "code",
   "execution_count": 1,
   "id": "0cdd4084",
   "metadata": {},
   "outputs": [],
   "source": [
    "from bs4 import BeautifulSoup as bsoup\n",
    "from splinter import Browser\n",
    "from webdriver_manager.chrome import ChromeDriverManager\n",
    "import pandas as pd"
   ]
  },
  {
   "cell_type": "code",
   "execution_count": 2,
   "id": "bf326fdd",
   "metadata": {},
   "outputs": [
    {
     "name": "stderr",
     "output_type": "stream",
     "text": [
      "\n",
      "\n",
      "====== WebDriver manager ======\n",
      "Current google-chrome version is 96.0.4664\n",
      "Get LATEST chromedriver version for 96.0.4664 google-chrome\n",
      "Driver [C:\\Users\\deant\\.wdm\\drivers\\chromedriver\\win32\\96.0.4664.45\\chromedriver.exe] found in cache\n"
     ]
    }
   ],
   "source": [
    "#Setup Browser\n",
    "executable_path = {'executable_path': ChromeDriverManager().install()}\n",
    "browser = Browser('chrome', **executable_path, headless=True)"
   ]
  },
  {
   "cell_type": "code",
   "execution_count": 3,
   "id": "d5918e1c",
   "metadata": {},
   "outputs": [],
   "source": [
    "url = \"https://redplanetscience.com/\"\n",
    "browser.visit(url)"
   ]
  },
  {
   "cell_type": "code",
   "execution_count": 4,
   "id": "89bff568",
   "metadata": {},
   "outputs": [],
   "source": [
    "html = browser.html\n",
    "soup = bsoup(html, \"html.parser\")"
   ]
  },
  {
   "cell_type": "code",
   "execution_count": 5,
   "id": "601c2126",
   "metadata": {},
   "outputs": [],
   "source": [
    "news_title = soup.find('div', class_='content_title').text\n",
    "news_p = soup.find('div', class_='article_teaser_body').text"
   ]
  },
  {
   "cell_type": "code",
   "execution_count": 6,
   "id": "42e3d04a",
   "metadata": {},
   "outputs": [],
   "source": [
    "url = \"https://spaceimages-mars.com/\"\n",
    "browser.visit(url)"
   ]
  },
  {
   "cell_type": "code",
   "execution_count": 7,
   "id": "5da9f6e8",
   "metadata": {},
   "outputs": [],
   "source": [
    "browser.links.find_by_partial_text('FULL IMAGE').click()\n",
    "html = browser.html\n",
    "soup = bsoup(html, 'html.parser')"
   ]
  },
  {
   "cell_type": "code",
   "execution_count": 8,
   "id": "0675f0dc",
   "metadata": {},
   "outputs": [],
   "source": [
    "imgsrc = soup.find('img', class_='fancybox-image').get('src')\n",
    "image_path = url+imgsrc"
   ]
  },
  {
   "cell_type": "code",
   "execution_count": 9,
   "id": "30756136",
   "metadata": {},
   "outputs": [],
   "source": [
    "url = \"https://galaxyfacts-mars.com/\"\n",
    "browser.visit(url)"
   ]
  },
  {
   "cell_type": "code",
   "execution_count": 10,
   "id": "2c06f843",
   "metadata": {},
   "outputs": [],
   "source": [
    "html = browser.html\n",
    "htmltables = pd.read_html(html)\n",
    "mars_data_df = htmltables[1]"
   ]
  },
  {
   "cell_type": "code",
   "execution_count": 11,
   "id": "72bc6169",
   "metadata": {},
   "outputs": [
    {
     "data": {
      "text/html": [
       "<div>\n",
       "<style scoped>\n",
       "    .dataframe tbody tr th:only-of-type {\n",
       "        vertical-align: middle;\n",
       "    }\n",
       "\n",
       "    .dataframe tbody tr th {\n",
       "        vertical-align: top;\n",
       "    }\n",
       "\n",
       "    .dataframe thead th {\n",
       "        text-align: right;\n",
       "    }\n",
       "</style>\n",
       "<table border=\"1\" class=\"dataframe\">\n",
       "  <thead>\n",
       "    <tr style=\"text-align: right;\">\n",
       "      <th></th>\n",
       "      <th>Measurement</th>\n",
       "      <th>Value</th>\n",
       "    </tr>\n",
       "  </thead>\n",
       "  <tbody>\n",
       "    <tr>\n",
       "      <th>0</th>\n",
       "      <td>Equatorial Diameter:</td>\n",
       "      <td>6,792 km</td>\n",
       "    </tr>\n",
       "    <tr>\n",
       "      <th>1</th>\n",
       "      <td>Polar Diameter:</td>\n",
       "      <td>6,752 km</td>\n",
       "    </tr>\n",
       "    <tr>\n",
       "      <th>2</th>\n",
       "      <td>Mass:</td>\n",
       "      <td>6.39 × 10^23 kg (0.11 Earths)</td>\n",
       "    </tr>\n",
       "    <tr>\n",
       "      <th>3</th>\n",
       "      <td>Moons:</td>\n",
       "      <td>2 ( Phobos &amp; Deimos )</td>\n",
       "    </tr>\n",
       "    <tr>\n",
       "      <th>4</th>\n",
       "      <td>Orbit Distance:</td>\n",
       "      <td>227,943,824 km (1.38 AU)</td>\n",
       "    </tr>\n",
       "    <tr>\n",
       "      <th>5</th>\n",
       "      <td>Orbit Period:</td>\n",
       "      <td>687 days (1.9 years)</td>\n",
       "    </tr>\n",
       "    <tr>\n",
       "      <th>6</th>\n",
       "      <td>Surface Temperature:</td>\n",
       "      <td>-87 to -5 °C</td>\n",
       "    </tr>\n",
       "    <tr>\n",
       "      <th>7</th>\n",
       "      <td>First Record:</td>\n",
       "      <td>2nd millennium BC</td>\n",
       "    </tr>\n",
       "    <tr>\n",
       "      <th>8</th>\n",
       "      <td>Recorded By:</td>\n",
       "      <td>Egyptian astronomers</td>\n",
       "    </tr>\n",
       "  </tbody>\n",
       "</table>\n",
       "</div>"
      ],
      "text/plain": [
       "            Measurement                          Value\n",
       "0  Equatorial Diameter:                       6,792 km\n",
       "1       Polar Diameter:                       6,752 km\n",
       "2                 Mass:  6.39 × 10^23 kg (0.11 Earths)\n",
       "3                Moons:          2 ( Phobos & Deimos )\n",
       "4       Orbit Distance:       227,943,824 km (1.38 AU)\n",
       "5         Orbit Period:           687 days (1.9 years)\n",
       "6  Surface Temperature:                   -87 to -5 °C\n",
       "7         First Record:              2nd millennium BC\n",
       "8          Recorded By:           Egyptian astronomers"
      ]
     },
     "execution_count": 11,
     "metadata": {},
     "output_type": "execute_result"
    }
   ],
   "source": [
    "mars_data_df.columns=['Measurement', 'Value']\n",
    "mars_data_df"
   ]
  },
  {
   "cell_type": "code",
   "execution_count": 12,
   "id": "912a7fe4",
   "metadata": {},
   "outputs": [
    {
     "data": {
      "text/plain": [
       "'<table border=\"1\" class=\"dataframe\">  <thead>    <tr style=\"text-align: right;\">      <th></th>      <th>Measurement</th>      <th>Value</th>    </tr>  </thead>  <tbody>    <tr>      <th>0</th>      <td>Equatorial Diameter:</td>      <td>6,792 km</td>    </tr>    <tr>      <th>1</th>      <td>Polar Diameter:</td>      <td>6,752 km</td>    </tr>    <tr>      <th>2</th>      <td>Mass:</td>      <td>6.39 × 10^23 kg (0.11 Earths)</td>    </tr>    <tr>      <th>3</th>      <td>Moons:</td>      <td>2 ( Phobos &amp; Deimos )</td>    </tr>    <tr>      <th>4</th>      <td>Orbit Distance:</td>      <td>227,943,824 km (1.38 AU)</td>    </tr>    <tr>      <th>5</th>      <td>Orbit Period:</td>      <td>687 days (1.9 years)</td>    </tr>    <tr>      <th>6</th>      <td>Surface Temperature:</td>      <td>-87 to -5 °C</td>    </tr>    <tr>      <th>7</th>      <td>First Record:</td>      <td>2nd millennium BC</td>    </tr>    <tr>      <th>8</th>      <td>Recorded By:</td>      <td>Egyptian astronomers</td>    </tr>  </tbody></table>'"
      ]
     },
     "execution_count": 12,
     "metadata": {},
     "output_type": "execute_result"
    }
   ],
   "source": [
    "mars_html = mars_data_df.to_html()\n",
    "mars_html = mars_html.replace('\\n','')\n",
    "mars_html"
   ]
  },
  {
   "cell_type": "code",
   "execution_count": 13,
   "id": "10ce419f",
   "metadata": {},
   "outputs": [],
   "source": [
    "hemisphere_images = []\n",
    "url = \"https://marshemispheres.com/\"\n",
    "browser.visit(url)"
   ]
  },
  {
   "cell_type": "code",
   "execution_count": 14,
   "id": "9cf5d1e0",
   "metadata": {},
   "outputs": [],
   "source": [
    "browser.links.find_by_partial_text('Cerberus').click()"
   ]
  },
  {
   "cell_type": "code",
   "execution_count": 15,
   "id": "0d4e1ee5",
   "metadata": {},
   "outputs": [],
   "source": [
    "html = browser.html\n",
    "soup = bsoup(html, 'html.parser')\n",
    "hemtitle = soup.find('h2', class_='title').text\n",
    "hemimage = soup.find('img', class_='wide-image').get('src')\n",
    "hemurl = url + hemimage\n",
    "hemisphere = {'title': hemtitle, 'img_url': hemurl }\n",
    "hemisphere_images.append(hemisphere)"
   ]
  },
  {
   "cell_type": "code",
   "execution_count": 16,
   "id": "556d81af",
   "metadata": {},
   "outputs": [],
   "source": [
    "browser.visit(url)\n",
    "browser.links.find_by_partial_text('Schiaparelli').click()"
   ]
  },
  {
   "cell_type": "code",
   "execution_count": 17,
   "id": "4308cf74",
   "metadata": {},
   "outputs": [],
   "source": [
    "html = browser.html\n",
    "soup = bsoup(html, 'html.parser')\n",
    "hemtitle = soup.find('h2', class_='title').text\n",
    "hemimage = soup.find('img', class_='wide-image').get('src')\n",
    "hemurl = url + hemimage\n",
    "hemisphere = {'title': hemtitle, 'img_url': hemurl }\n",
    "hemisphere_images.append(hemisphere)"
   ]
  },
  {
   "cell_type": "code",
   "execution_count": 18,
   "id": "53505347",
   "metadata": {},
   "outputs": [],
   "source": [
    "browser.visit(url)\n",
    "browser.links.find_by_partial_text('Syrtis').click()"
   ]
  },
  {
   "cell_type": "code",
   "execution_count": 19,
   "id": "3d84f799",
   "metadata": {},
   "outputs": [],
   "source": [
    "html = browser.html\n",
    "soup = bsoup(html, 'html.parser')\n",
    "hemtitle = soup.find('h2', class_='title').text\n",
    "hemimage = soup.find('img', class_='wide-image').get('src')\n",
    "hemurl = url + hemimage\n",
    "hemisphere = {'title': hemtitle, 'img_url': hemurl }\n",
    "hemisphere_images.append(hemisphere)"
   ]
  },
  {
   "cell_type": "code",
   "execution_count": 20,
   "id": "75c3076d",
   "metadata": {},
   "outputs": [],
   "source": [
    "browser.visit(url)\n",
    "browser.links.find_by_partial_text('Valles').click()"
   ]
  },
  {
   "cell_type": "code",
   "execution_count": 21,
   "id": "9e69490a",
   "metadata": {},
   "outputs": [],
   "source": [
    "html = browser.html\n",
    "soup = bsoup(html, 'html.parser')\n",
    "hemtitle = soup.find('h2', class_='title').text\n",
    "hemimage = soup.find('img', class_='wide-image').get('src')\n",
    "hemurl = url + hemimage\n",
    "hemisphere = {'title': hemtitle, 'img_url': hemurl }\n",
    "hemisphere_images.append(hemisphere)"
   ]
  },
  {
   "cell_type": "code",
   "execution_count": 22,
   "id": "98a0a32e",
   "metadata": {},
   "outputs": [
    {
     "data": {
      "text/plain": [
       "[{'title': 'Cerberus Hemisphere Enhanced',\n",
       "  'img_url': 'https://marshemispheres.com/images/f5e372a36edfa389625da6d0cc25d905_cerberus_enhanced.tif_full.jpg'},\n",
       " {'title': 'Schiaparelli Hemisphere Enhanced',\n",
       "  'img_url': 'https://marshemispheres.com/images/3778f7b43bbbc89d6e3cfabb3613ba93_schiaparelli_enhanced.tif_full.jpg'},\n",
       " {'title': 'Syrtis Major Hemisphere Enhanced',\n",
       "  'img_url': 'https://marshemispheres.com/images/555e6403a6ddd7ba16ddb0e471cadcf7_syrtis_major_enhanced.tif_full.jpg'},\n",
       " {'title': 'Valles Marineris Hemisphere Enhanced',\n",
       "  'img_url': 'https://marshemispheres.com/images/b3c7c6c9138f57b4756be9b9c43e3a48_valles_marineris_enhanced.tif_full.jpg'}]"
      ]
     },
     "execution_count": 22,
     "metadata": {},
     "output_type": "execute_result"
    }
   ],
   "source": [
    "hemisphere_images"
   ]
  },
  {
   "cell_type": "code",
   "execution_count": 23,
   "id": "ddf76c4b",
   "metadata": {},
   "outputs": [],
   "source": [
    "browser.quit()"
   ]
  }
 ],
 "metadata": {
  "kernelspec": {
   "display_name": "Python 3",
   "language": "python",
   "name": "python3"
  },
  "language_info": {
   "codemirror_mode": {
    "name": "ipython",
    "version": 3
   },
   "file_extension": ".py",
   "mimetype": "text/x-python",
   "name": "python",
   "nbconvert_exporter": "python",
   "pygments_lexer": "ipython3",
   "version": "3.8.8"
  }
 },
 "nbformat": 4,
 "nbformat_minor": 5
}
